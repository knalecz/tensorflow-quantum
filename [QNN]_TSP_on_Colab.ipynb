{
  "cells": [
    {
      "cell_type": "markdown",
      "metadata": {
        "id": "2BswWgdtnmSP"
      },
      "source": [
        "# Hybrid quantum-classical feed forward neural network for solving the TSP."
      ]
    },
    {
      "cell_type": "code",
      "source": [
        "!pip install -q cirq==0.13.1\n"
      ],
      "metadata": {
        "id": "hms2EO-5H9mJ",
        "outputId": "78dd47c9-a7a0-41c7-881b-6b2622a7e3cc",
        "colab": {
          "base_uri": "https://localhost:8080/"
        }
      },
      "execution_count": null,
      "outputs": [
        {
          "output_type": "stream",
          "name": "stdout",
          "text": [
            "\u001b[31mERROR: pip's dependency resolver does not currently take into account all the packages that are installed. This behaviour is the source of the following dependency conflicts.\n",
            "markdown 3.3.7 requires importlib-metadata>=4.4; python_version < \"3.10\", but you have importlib-metadata 3.10.1 which is incompatible.\u001b[0m\n"
          ]
        }
      ]
    },
    {
      "cell_type": "code",
      "source": [
        "!pip install -q tensorflow==2.7.0\n"
      ],
      "metadata": {
        "id": "yROLGGltH_Rw",
        "outputId": "2a1968f5-6521-4c66-d932-e74f1fbb28e7",
        "colab": {
          "base_uri": "https://localhost:8080/"
        }
      },
      "execution_count": null,
      "outputs": [
        {
          "output_type": "stream",
          "name": "stdout",
          "text": [
            "\u001b[31mERROR: pip's dependency resolver does not currently take into account all the packages that are installed. This behaviour is the source of the following dependency conflicts.\n",
            "pyquil 3.0.1 requires importlib-metadata<4.0.0,>=3.7.3; python_version < \"3.8\", but you have importlib-metadata 4.12.0 which is incompatible.\u001b[0m\n"
          ]
        }
      ]
    },
    {
      "cell_type": "code",
      "source": [
        "!pip install -q tensorflow_quantum==0.6.1\n"
      ],
      "metadata": {
        "id": "Y0rWflOMIEeu"
      },
      "execution_count": null,
      "outputs": []
    },
    {
      "cell_type": "code",
      "source": [
        "!pip install -q numpy==1.22.3\n"
      ],
      "metadata": {
        "id": "uuHuI15_IG1W",
        "outputId": "18733d04-f772-47c5-bdbd-34ee13b39427",
        "colab": {
          "base_uri": "https://localhost:8080/"
        }
      },
      "execution_count": null,
      "outputs": [
        {
          "output_type": "stream",
          "name": "stdout",
          "text": [
            "\u001b[31mERROR: Could not find a version that satisfies the requirement numpy==1.22.3 (from versions: 1.3.0, 1.4.1, 1.5.0, 1.5.1, 1.6.0, 1.6.1, 1.6.2, 1.7.0, 1.7.1, 1.7.2, 1.8.0, 1.8.1, 1.8.2, 1.9.0, 1.9.1, 1.9.2, 1.9.3, 1.10.0.post2, 1.10.1, 1.10.2, 1.10.4, 1.11.0, 1.11.1, 1.11.2, 1.11.3, 1.12.0, 1.12.1, 1.13.0rc1, 1.13.0rc2, 1.13.0, 1.13.1, 1.13.3, 1.14.0rc1, 1.14.0, 1.14.1, 1.14.2, 1.14.3, 1.14.4, 1.14.5, 1.14.6, 1.15.0rc1, 1.15.0rc2, 1.15.0, 1.15.1, 1.15.2, 1.15.3, 1.15.4, 1.16.0rc1, 1.16.0rc2, 1.16.0, 1.16.1, 1.16.2, 1.16.3, 1.16.4, 1.16.5, 1.16.6, 1.17.0rc1, 1.17.0rc2, 1.17.0, 1.17.1, 1.17.2, 1.17.3, 1.17.4, 1.17.5, 1.18.0rc1, 1.18.0, 1.18.1, 1.18.2, 1.18.3, 1.18.4, 1.18.5, 1.19.0rc1, 1.19.0rc2, 1.19.0, 1.19.1, 1.19.2, 1.19.3, 1.19.4, 1.19.5, 1.20.0rc1, 1.20.0rc2, 1.20.0, 1.20.1, 1.20.2, 1.20.3, 1.21.0rc1, 1.21.0rc2, 1.21.0, 1.21.1, 1.21.2, 1.21.3, 1.21.4, 1.21.5, 1.21.6)\u001b[0m\n",
            "\u001b[31mERROR: No matching distribution found for numpy==1.22.3\u001b[0m\n"
          ]
        }
      ]
    },
    {
      "cell_type": "code",
      "source": [
        "!pip install -q sympy==1.8\n"
      ],
      "metadata": {
        "id": "p_taijKNIcmo"
      },
      "execution_count": null,
      "outputs": []
    },
    {
      "cell_type": "code",
      "source": [
        "!pip install -q matplotlib==3.5.1"
      ],
      "metadata": {
        "id": "UWTWNnDuIdlq"
      },
      "execution_count": null,
      "outputs": []
    },
    {
      "cell_type": "code",
      "execution_count": null,
      "metadata": {
        "collapsed": true,
        "id": "kW2sb1rAfhwt"
      },
      "outputs": [],
      "source": [
        "import cirq\n",
        "import tensorflow as tf\n",
        "import tensorflow_quantum as tfq\n",
        "import numpy as np\n",
        "import sympy\n",
        "import matplotlib.pyplot as plt\n",
        "import itertools\n",
        "\n",
        "%matplotlib inline"
      ]
    },
    {
      "cell_type": "markdown",
      "metadata": {
        "id": "r0rC9eTXqPaR"
      },
      "source": [
        "## TSP \n"
      ]
    },
    {
      "cell_type": "code",
      "execution_count": null,
      "metadata": {
        "id": "X7XhGNwmH88G"
      },
      "outputs": [],
      "source": [
        "class TSP:\n",
        "    def __init__(self, number_of_cities, coords_range=(0, 10000)):\n",
        "        self.number_of_cities = number_of_cities\n",
        "        self.coords_range = coords_range\n",
        "        self.cities_coords = self.get_cities()\n",
        "        self.distance_matrix = self.calculate_distance_matrix()\n",
        "        self.normalized_distance_matrix = self.normalize_distance_matrix()\n",
        "    \n",
        "    def get_cities(self):\n",
        "        cities_coords = np.random.randint(self.coords_range[0], self.coords_range[1], size = (self.number_of_cities, 2))\n",
        "        return cities_coords\n",
        "           \n",
        "    def normalize_cities(self):\n",
        "        max_coords = np.amax(self.cities_coords, axis=0)\n",
        "        normalized_cities_coords = np.divide(self.cities_coords, max_coords)\n",
        "        return normalized_cities_coords\n",
        "\n",
        "    def calculate_distance_between_points(self, point_A, point_B):\n",
        "        return np.sqrt((point_A[0] - point_B[0])**2 + (point_A[1] - point_B[1])**2)\n",
        "    \n",
        "    def calculate_distance_matrix(self):\n",
        "        distance_matrix = np.zeros((self.number_of_cities, self.number_of_cities))\n",
        "        for i in range(self.number_of_cities):\n",
        "            for j in range(i, self.number_of_cities):\n",
        "                distance_matrix[i][j] = self.calculate_distance_between_points(self.cities_coords[i], self.cities_coords[j])\n",
        "                distance_matrix[j][i] = distance_matrix[i][j]\n",
        "        return distance_matrix \n",
        "    \n",
        "    def normalize_distance_matrix(self):\n",
        "        return np.divide(self.distance_matrix, np.max(self.distance_matrix))"
      ]
    },
    {
      "cell_type": "markdown",
      "metadata": {
        "id": "CMzwehUYH88G"
      },
      "source": [
        "##  QAOA"
      ]
    },
    {
      "cell_type": "code",
      "execution_count": null,
      "metadata": {
        "id": "twgeQNmTH88H"
      },
      "outputs": [],
      "source": [
        "class QAOA_TSP:\n",
        "    def __init__(self, tsp_instance, p=1, A_1=4, A_2=4, B=1):\n",
        "        self.tsp_instance = tsp_instance\n",
        "        self.qubits = cirq.GridQubit.rect(1, tsp_instance.number_of_cities**2)\n",
        "        self.p = p\n",
        "        self.weights = {'cost_weight': B, \n",
        "                        'constraint_each_visited': A_1, \n",
        "                        'constraint_each_visited_once': A_2}\n",
        "        self.parameters = self.generate_sympy_parameters()\n",
        "        self.cost_operator = self.create_cost_operator()\n",
        "        self.circuit = self.create_qaoa_circuit()\n",
        "    \n",
        "    def calc_bit(self, i, t):\n",
        "        return i + t * self.tsp_instance.number_of_cities\n",
        "    \n",
        "    def x(self, i, t):\n",
        "        x = self.calc_bit(i, t)\n",
        "        qubit = self.qubits[x]\n",
        "        return cirq.PauliString(0.5, cirq.I(qubit)) - cirq.PauliString(0.5, cirq.Z(qubit))\n",
        "        \n",
        "    def create_hadamard_circuit_layer(self):\n",
        "        hadamard_circuit_layer = cirq.Circuit()\n",
        "        for qubit in self.qubits:\n",
        "            hadamard_circuit_layer += cirq.H(qubit)\n",
        "        return hadamard_circuit_layer\n",
        "    \n",
        "    def generate_sympy_parameters(self):\n",
        "        return sympy.symbols('parameter_:%d'%(2*self.p))\n",
        "\n",
        "    def create_cost_operator(self):\n",
        "        A_1 = self.weights['constraint_each_visited']\n",
        "        A_2 = self.weights['constraint_each_visited_once']\n",
        "        B = self.weights['cost_weight']\n",
        "        \n",
        "        cost_of_constraint_each_visited = 0    \n",
        "        for i in range(self.tsp_instance.number_of_cities):\n",
        "            curr = 1\n",
        "            for t in range(self.tsp_instance.number_of_cities):\n",
        "                curr -= self.x(i, t)    \n",
        "            cost_of_constraint_each_visited += np.power(curr, 2)\n",
        "            \n",
        "        cost_of_constraint_each_visited_once = 0\n",
        "        for t in range(self.tsp_instance.number_of_cities):\n",
        "            curr = 1\n",
        "            for i in range(self.tsp_instance.number_of_cities):\n",
        "                curr -= self.x(i, t)\n",
        "            cost_of_constraint_each_visited_once += np.power(curr, 2)\n",
        "        \n",
        "        cost_of_visiting_cities = 0\n",
        "        for i, j in itertools.permutations(range(0, self.tsp_instance.number_of_cities), 2):\n",
        "            curr = 0\n",
        "            for t in range(self.tsp_instance.number_of_cities):\n",
        "                inc_t = t + 1\n",
        "                if inc_t == self.tsp_instance.number_of_cities:\n",
        "                    inc_t = 0\n",
        "                curr += self.x(i, t) * self.x(j, inc_t)\n",
        "            cost_of_visiting_cities += self.tsp_instance.normalized_distance_matrix[i][j] * curr \n",
        "        \n",
        "        cost_operator = A_1 * cost_of_constraint_each_visited + \\\n",
        "                        A_2 * cost_of_constraint_each_visited_once + \\\n",
        "                        B * cost_of_visiting_cities\n",
        "                \n",
        "        return cost_operator\n",
        "    \n",
        "    def create_mixing_operator(self):\n",
        "        mixing_operator = 0\n",
        "        for qubit in self.qubits:\n",
        "            mixing_operator += cirq.X(qubit)\n",
        "        return mixing_operator\n",
        "\n",
        "    def create_qaoa_circuit(self):\n",
        "        hadamard_circuit_layer = self.create_hadamard_circuit_layer()\n",
        "        cost_operator = self.create_cost_operator()\n",
        "        mixing_operator = self.create_mixing_operator()\n",
        "        parameterized_circuit_layers = tfq.util.exponential(operators = [cost_operator, mixing_operator] * self.p, \n",
        "                                                            coefficients = self.parameters)\n",
        "        qaoa_circuit = hadamard_circuit_layer + parameterized_circuit_layers\n",
        "        return qaoa_circuit"
      ]
    },
    {
      "cell_type": "code",
      "execution_count": null,
      "metadata": {
        "id": "-YERWBqYH88I"
      },
      "outputs": [],
      "source": [
        "tsp_instance = TSP(4)\n",
        "qaoa_tsp = QAOA_TSP(tsp_instance, p=10, A_1=4, A_2=4, B=1)"
      ]
    },
    {
      "cell_type": "markdown",
      "metadata": {
        "id": "hUEADuuSH88I"
      },
      "source": [
        "Display the circuit (sometimes it takes a little while...)."
      ]
    },
    {
      "cell_type": "code",
      "execution_count": null,
      "metadata": {
        "id": "nK0rA7U2H88I"
      },
      "outputs": [],
      "source": [
        "# from cirq.contrib.svg import SVGCircuit\n",
        "# SVGCircuit(qaoa_tsp.circuit)"
      ]
    },
    {
      "cell_type": "markdown",
      "metadata": {
        "id": "1qsBNoLYr3M4"
      },
      "source": [
        "## Hybrid Quantum-Classical Feed Forward Neural Network"
      ]
    },
    {
      "cell_type": "code",
      "execution_count": null,
      "metadata": {
        "id": "1pTYsdMSH88I"
      },
      "outputs": [],
      "source": [
        "class QFFNN(tf.keras.layers.Layer):\n",
        "  def __init__(self, parameters):\n",
        "    super(QFFNN, self).__init__()\n",
        "    self.parameters = parameters\n",
        "    self.params_inp = tf.keras.Input(shape=(len(self.parameters),), name='input_layer')\n",
        "    self.first_hidden = tf.keras.layers.Dense(len(self.parameters), name=\"hidden_layer\")\n",
        "    self.expectation = tfq.layers.Expectation(name=\"expectation_layer\")\n",
        "    \n",
        "\n",
        "  def call(self, inputs):\n",
        "    parameterized_circuit = inputs[0]\n",
        "    cost_operator = inputs[1]\n",
        "    initial_parameter_values = inputs[2]\n",
        "    \n",
        "    parameter_values = self.first_hidden(initial_parameter_values)\n",
        "    expectation_value = self.expectation(parameterized_circuit,\n",
        "                                       operators=cost_operator,\n",
        "                                       symbol_names=self.parameters,\n",
        "                                       symbol_values=parameter_values)\n",
        "\n",
        "    return [parameter_values, expectation_value]"
      ]
    },
    {
      "cell_type": "code",
      "execution_count": null,
      "metadata": {
        "id": "m8BzcT8ZH88J"
      },
      "outputs": [],
      "source": [
        "parametrized_circuit_input = tf.keras.Input(shape=(), dtype=tf.dtypes.string)\n",
        "operator_input = tf.keras.Input(shape=(1,), dtype=tf.dtypes.string)\n",
        "parameters_input = tf.keras.Input(shape=(2 * qaoa_tsp.p,))"
      ]
    },
    {
      "cell_type": "code",
      "execution_count": null,
      "metadata": {
        "id": "XPL-CRJUgj_X"
      },
      "outputs": [],
      "source": [
        "qffnn = QFFNN(qaoa_tsp.parameters)\n",
        "output = qffnn([parametrized_circuit_input, operator_input, parameters_input])"
      ]
    },
    {
      "cell_type": "code",
      "execution_count": null,
      "metadata": {
        "id": "HgdWp9LTCXur"
      },
      "outputs": [],
      "source": [
        "model = tf.keras.Model(\n",
        "              inputs=[\n",
        "                  parametrized_circuit_input, \n",
        "                  operator_input, \n",
        "                  parameters_input\n",
        "              ],\n",
        "              outputs=[\n",
        "                  output[0], # array of optimized 2p parameters\n",
        "                  output[1], # expectation value\n",
        "              ])"
      ]
    },
    {
      "cell_type": "code",
      "execution_count": null,
      "metadata": {
        "id": "8fSouCBcH88J"
      },
      "outputs": [],
      "source": [
        "model.compile(\n",
        "              optimizer=tf.keras.optimizers.Adam(learning_rate=0.01),\n",
        "              loss = tf.keras.losses.mean_absolute_error,\n",
        "              loss_weights=[0, 1]\n",
        "             )"
      ]
    },
    {
      "cell_type": "code",
      "execution_count": null,
      "metadata": {
        "id": "hocxHnp0H88K",
        "outputId": "15fb2119-694a-437c-dba7-515d0777d7ec",
        "colab": {
          "base_uri": "https://localhost:8080/"
        }
      },
      "outputs": [
        {
          "output_type": "stream",
          "name": "stdout",
          "text": [
            "Model: \"model\"\n",
            "__________________________________________________________________________________________________\n",
            " Layer (type)                   Output Shape         Param #     Connected to                     \n",
            "==================================================================================================\n",
            " input_1 (InputLayer)           [(None,)]            0           []                               \n",
            "                                                                                                  \n",
            " input_2 (InputLayer)           [(None, 1)]          0           []                               \n",
            "                                                                                                  \n",
            " input_3 (InputLayer)           [(None, 20)]         0           []                               \n",
            "                                                                                                  \n",
            " qffnn (QFFNN)                  [(None, 20),         420         ['input_1[0][0]',                \n",
            "                                 (None, 1)]                       'input_2[0][0]',                \n",
            "                                                                  'input_3[0][0]']                \n",
            "                                                                                                  \n",
            "==================================================================================================\n",
            "Total params: 420\n",
            "Trainable params: 420\n",
            "Non-trainable params: 0\n",
            "__________________________________________________________________________________________________\n"
          ]
        }
      ],
      "source": [
        "model.summary()"
      ]
    },
    {
      "cell_type": "code",
      "execution_count": null,
      "metadata": {
        "id": "eZGG2QYYCXuj"
      },
      "outputs": [],
      "source": [
        "circuit_tensor = tfq.convert_to_tensor([qaoa_tsp.circuit])\n",
        "cost_operator_tensor = tfq.convert_to_tensor([qaoa_tsp.cost_operator])\n",
        "initial_parameters = np.zeros((1, qaoa_tsp.p * 2)).astype(np.float32)"
      ]
    },
    {
      "cell_type": "code",
      "execution_count": null,
      "metadata": {
        "colab": {
          "base_uri": "https://localhost:8080/"
        },
        "id": "sykuyNseURcC",
        "outputId": "77d89ded-db18-49df-c553-89c56d1aa045",
        "scrolled": true
      },
      "outputs": [
        {
          "output_type": "stream",
          "name": "stdout",
          "text": [
            "Epoch 1/250\n",
            "1/1 [==============================] - 6s 6s/step - loss: 71.9031 - qffnn_loss: 0.0000e+00 - qffnn_1_loss: 71.9031\n",
            "Epoch 2/250\n",
            "1/1 [==============================] - 6s 6s/step - loss: 54.5298 - qffnn_loss: 0.0100 - qffnn_1_loss: 54.5298\n",
            "Epoch 3/250\n",
            "1/1 [==============================] - 4s 4s/step - loss: 40.4074 - qffnn_loss: 0.0114 - qffnn_1_loss: 40.4074\n",
            "Epoch 4/250\n",
            "1/1 [==============================] - 4s 4s/step - loss: 28.6246 - qffnn_loss: 0.0167 - qffnn_1_loss: 28.6246\n",
            "Epoch 5/250\n",
            "1/1 [==============================] - 4s 4s/step - loss: 20.9584 - qffnn_loss: 0.0219 - qffnn_1_loss: 20.9584\n",
            "Epoch 6/250\n",
            "1/1 [==============================] - 4s 4s/step - loss: 18.5701 - qffnn_loss: 0.0272 - qffnn_1_loss: 18.5701\n",
            "Epoch 7/250\n",
            "1/1 [==============================] - 4s 4s/step - loss: 18.6821 - qffnn_loss: 0.0315 - qffnn_1_loss: 18.6821\n",
            "Epoch 8/250\n",
            "1/1 [==============================] - 4s 4s/step - loss: 20.3880 - qffnn_loss: 0.0348 - qffnn_1_loss: 20.3880\n",
            "Epoch 9/250\n",
            "1/1 [==============================] - 4s 4s/step - loss: 22.2986 - qffnn_loss: 0.0370 - qffnn_1_loss: 22.2986\n",
            "Epoch 10/250\n",
            "1/1 [==============================] - 3s 3s/step - loss: 23.4326 - qffnn_loss: 0.0382 - qffnn_1_loss: 23.4326\n",
            "Epoch 11/250\n",
            "1/1 [==============================] - 4s 4s/step - loss: 23.6408 - qffnn_loss: 0.0383 - qffnn_1_loss: 23.6408\n",
            "Epoch 12/250\n",
            "1/1 [==============================] - 3s 3s/step - loss: 22.7102 - qffnn_loss: 0.0375 - qffnn_1_loss: 22.7102\n",
            "Epoch 13/250\n",
            "1/1 [==============================] - 4s 4s/step - loss: 20.4574 - qffnn_loss: 0.0378 - qffnn_1_loss: 20.4574\n",
            "Epoch 14/250\n",
            "1/1 [==============================] - 4s 4s/step - loss: 17.3391 - qffnn_loss: 0.0387 - qffnn_1_loss: 17.3391\n",
            "Epoch 15/250\n",
            "1/1 [==============================] - 4s 4s/step - loss: 14.6314 - qffnn_loss: 0.0398 - qffnn_1_loss: 14.6314\n",
            "Epoch 16/250\n",
            "1/1 [==============================] - 4s 4s/step - loss: 14.8882 - qffnn_loss: 0.0409 - qffnn_1_loss: 14.8882\n",
            "Epoch 17/250\n",
            "1/1 [==============================] - 3s 3s/step - loss: 17.5539 - qffnn_loss: 0.0420 - qffnn_1_loss: 17.5539\n",
            "Epoch 18/250\n",
            "1/1 [==============================] - 4s 4s/step - loss: 16.6825 - qffnn_loss: 0.0431 - qffnn_1_loss: 16.6825\n",
            "Epoch 19/250\n",
            "1/1 [==============================] - 3s 3s/step - loss: 15.4346 - qffnn_loss: 0.0442 - qffnn_1_loss: 15.4346\n",
            "Epoch 20/250\n",
            "1/1 [==============================] - 4s 4s/step - loss: 14.9736 - qffnn_loss: 0.0453 - qffnn_1_loss: 14.9736\n",
            "Epoch 21/250\n",
            "1/1 [==============================] - 3s 3s/step - loss: 14.2633 - qffnn_loss: 0.0461 - qffnn_1_loss: 14.2633\n",
            "Epoch 22/250\n",
            "1/1 [==============================] - 3s 3s/step - loss: 13.3471 - qffnn_loss: 0.0466 - qffnn_1_loss: 13.3471\n",
            "Epoch 23/250\n",
            "1/1 [==============================] - 4s 4s/step - loss: 13.1718 - qffnn_loss: 0.0475 - qffnn_1_loss: 13.1718\n",
            "Epoch 24/250\n",
            "1/1 [==============================] - 4s 4s/step - loss: 14.0020 - qffnn_loss: 0.0489 - qffnn_1_loss: 14.0020\n",
            "Epoch 25/250\n",
            "1/1 [==============================] - 4s 4s/step - loss: 14.0392 - qffnn_loss: 0.0501 - qffnn_1_loss: 14.0392\n",
            "Epoch 26/250\n",
            "1/1 [==============================] - 3s 3s/step - loss: 13.4879 - qffnn_loss: 0.0513 - qffnn_1_loss: 13.4879\n",
            "Epoch 27/250\n",
            "1/1 [==============================] - 3s 3s/step - loss: 13.4082 - qffnn_loss: 0.0523 - qffnn_1_loss: 13.4082\n",
            "Epoch 28/250\n",
            "1/1 [==============================] - 4s 4s/step - loss: 13.3550 - qffnn_loss: 0.0533 - qffnn_1_loss: 13.3550\n",
            "Epoch 29/250\n",
            "1/1 [==============================] - 4s 4s/step - loss: 12.8836 - qffnn_loss: 0.0543 - qffnn_1_loss: 12.8836\n",
            "Epoch 30/250\n",
            "1/1 [==============================] - 4s 4s/step - loss: 12.1625 - qffnn_loss: 0.0551 - qffnn_1_loss: 12.1625\n",
            "Epoch 31/250\n",
            "1/1 [==============================] - 4s 4s/step - loss: 11.7399 - qffnn_loss: 0.0560 - qffnn_1_loss: 11.7399\n",
            "Epoch 32/250\n",
            "1/1 [==============================] - 3s 3s/step - loss: 11.7557 - qffnn_loss: 0.0570 - qffnn_1_loss: 11.7557\n",
            "Epoch 33/250\n",
            "1/1 [==============================] - 3s 3s/step - loss: 11.6214 - qffnn_loss: 0.0581 - qffnn_1_loss: 11.6214\n",
            "Epoch 34/250\n",
            "1/1 [==============================] - 3s 3s/step - loss: 11.2683 - qffnn_loss: 0.0593 - qffnn_1_loss: 11.2683\n",
            "Epoch 35/250\n",
            "1/1 [==============================] - 3s 3s/step - loss: 11.1137 - qffnn_loss: 0.0607 - qffnn_1_loss: 11.1137\n",
            "Epoch 36/250\n",
            "1/1 [==============================] - 3s 3s/step - loss: 11.1069 - qffnn_loss: 0.0622 - qffnn_1_loss: 11.1069\n",
            "Epoch 37/250\n",
            "1/1 [==============================] - 3s 3s/step - loss: 10.9585 - qffnn_loss: 0.0637 - qffnn_1_loss: 10.9585\n",
            "Epoch 38/250\n",
            "1/1 [==============================] - 3s 3s/step - loss: 10.6156 - qffnn_loss: 0.0650 - qffnn_1_loss: 10.6156\n",
            "Epoch 39/250\n",
            "1/1 [==============================] - 3s 3s/step - loss: 10.2707 - qffnn_loss: 0.0664 - qffnn_1_loss: 10.2707\n",
            "Epoch 40/250\n",
            "1/1 [==============================] - 3s 3s/step - loss: 10.0726 - qffnn_loss: 0.0678 - qffnn_1_loss: 10.0726\n",
            "Epoch 41/250\n",
            "1/1 [==============================] - 5s 5s/step - loss: 9.9345 - qffnn_loss: 0.0692 - qffnn_1_loss: 9.9345\n",
            "Epoch 42/250\n",
            "1/1 [==============================] - 4s 4s/step - loss: 9.7469 - qffnn_loss: 0.0707 - qffnn_1_loss: 9.7469\n",
            "Epoch 43/250\n",
            "1/1 [==============================] - 3s 3s/step - loss: 9.5892 - qffnn_loss: 0.0721 - qffnn_1_loss: 9.5892\n",
            "Epoch 44/250\n",
            "1/1 [==============================] - 3s 3s/step - loss: 9.5268 - qffnn_loss: 0.0735 - qffnn_1_loss: 9.5268\n",
            "Epoch 45/250\n",
            "1/1 [==============================] - 3s 3s/step - loss: 9.4596 - qffnn_loss: 0.0748 - qffnn_1_loss: 9.4596\n",
            "Epoch 46/250\n",
            "1/1 [==============================] - 3s 3s/step - loss: 9.2994 - qffnn_loss: 0.0759 - qffnn_1_loss: 9.2994\n",
            "Epoch 47/250\n",
            "1/1 [==============================] - 4s 4s/step - loss: 9.1154 - qffnn_loss: 0.0769 - qffnn_1_loss: 9.1154\n",
            "Epoch 48/250\n",
            "1/1 [==============================] - 3s 3s/step - loss: 9.0039 - qffnn_loss: 0.0779 - qffnn_1_loss: 9.0039\n",
            "Epoch 49/250\n",
            "1/1 [==============================] - 3s 3s/step - loss: 8.9334 - qffnn_loss: 0.0789 - qffnn_1_loss: 8.9334\n",
            "Epoch 50/250\n",
            "1/1 [==============================] - 3s 3s/step - loss: 8.8286 - qffnn_loss: 0.0799 - qffnn_1_loss: 8.8286\n",
            "Epoch 51/250\n",
            "1/1 [==============================] - 3s 3s/step - loss: 8.7400 - qffnn_loss: 0.0809 - qffnn_1_loss: 8.7400\n",
            "Epoch 52/250\n",
            "1/1 [==============================] - 3s 3s/step - loss: 8.7113 - qffnn_loss: 0.0818 - qffnn_1_loss: 8.7113\n",
            "Epoch 53/250\n",
            "1/1 [==============================] - 4s 4s/step - loss: 8.6859 - qffnn_loss: 0.0828 - qffnn_1_loss: 8.6859\n",
            "Epoch 54/250\n",
            "1/1 [==============================] - 3s 3s/step - loss: 8.6120 - qffnn_loss: 0.0838 - qffnn_1_loss: 8.6120\n",
            "Epoch 55/250\n",
            "1/1 [==============================] - 3s 3s/step - loss: 8.5091 - qffnn_loss: 0.0847 - qffnn_1_loss: 8.5091\n",
            "Epoch 56/250\n",
            "1/1 [==============================] - 3s 3s/step - loss: 8.4209 - qffnn_loss: 0.0856 - qffnn_1_loss: 8.4209\n",
            "Epoch 57/250\n",
            "1/1 [==============================] - 3s 3s/step - loss: 8.3432 - qffnn_loss: 0.0865 - qffnn_1_loss: 8.3432\n",
            "Epoch 58/250\n",
            "1/1 [==============================] - 3s 3s/step - loss: 8.2651 - qffnn_loss: 0.0875 - qffnn_1_loss: 8.2651\n",
            "Epoch 59/250\n",
            "1/1 [==============================] - 3s 3s/step - loss: 8.1963 - qffnn_loss: 0.0885 - qffnn_1_loss: 8.1963\n",
            "Epoch 60/250\n",
            "1/1 [==============================] - 4s 4s/step - loss: 8.1502 - qffnn_loss: 0.0894 - qffnn_1_loss: 8.1502\n",
            "Epoch 61/250\n",
            "1/1 [==============================] - 3s 3s/step - loss: 8.1057 - qffnn_loss: 0.0904 - qffnn_1_loss: 8.1057\n",
            "Epoch 62/250\n",
            "1/1 [==============================] - 3s 3s/step - loss: 8.0423 - qffnn_loss: 0.0913 - qffnn_1_loss: 8.0423\n",
            "Epoch 63/250\n",
            "1/1 [==============================] - 3s 3s/step - loss: 7.9698 - qffnn_loss: 0.0922 - qffnn_1_loss: 7.9698\n",
            "Epoch 64/250\n",
            "1/1 [==============================] - 3s 3s/step - loss: 7.9106 - qffnn_loss: 0.0931 - qffnn_1_loss: 7.9106\n",
            "Epoch 65/250\n",
            "1/1 [==============================] - 3s 3s/step - loss: 7.8641 - qffnn_loss: 0.0940 - qffnn_1_loss: 7.8641\n",
            "Epoch 66/250\n",
            "1/1 [==============================] - 3s 3s/step - loss: 7.8190 - qffnn_loss: 0.0949 - qffnn_1_loss: 7.8190\n",
            "Epoch 67/250\n",
            "1/1 [==============================] - 4s 4s/step - loss: 7.7742 - qffnn_loss: 0.0957 - qffnn_1_loss: 7.7742\n",
            "Epoch 68/250\n",
            "1/1 [==============================] - 3s 3s/step - loss: 7.7382 - qffnn_loss: 0.0964 - qffnn_1_loss: 7.7382\n",
            "Epoch 69/250\n",
            "1/1 [==============================] - 3s 3s/step - loss: 7.7041 - qffnn_loss: 0.0972 - qffnn_1_loss: 7.7041\n",
            "Epoch 70/250\n",
            "1/1 [==============================] - 3s 3s/step - loss: 7.6597 - qffnn_loss: 0.0980 - qffnn_1_loss: 7.6597\n",
            "Epoch 71/250\n",
            "1/1 [==============================] - 4s 4s/step - loss: 7.6081 - qffnn_loss: 0.0986 - qffnn_1_loss: 7.6081\n",
            "Epoch 72/250\n",
            "1/1 [==============================] - 3s 3s/step - loss: 7.5606 - qffnn_loss: 0.0993 - qffnn_1_loss: 7.5606\n",
            "Epoch 73/250\n",
            "1/1 [==============================] - 3s 3s/step - loss: 7.5178 - qffnn_loss: 0.0999 - qffnn_1_loss: 7.5178\n",
            "Epoch 74/250\n",
            "1/1 [==============================] - 3s 3s/step - loss: 7.4729 - qffnn_loss: 0.1005 - qffnn_1_loss: 7.4729\n",
            "Epoch 75/250\n",
            "1/1 [==============================] - 3s 3s/step - loss: 7.4253 - qffnn_loss: 0.1011 - qffnn_1_loss: 7.4253\n",
            "Epoch 76/250\n",
            "1/1 [==============================] - 4s 4s/step - loss: 7.3807 - qffnn_loss: 0.1017 - qffnn_1_loss: 7.3807\n",
            "Epoch 77/250\n",
            "1/1 [==============================] - 3s 3s/step - loss: 7.3343 - qffnn_loss: 0.1023 - qffnn_1_loss: 7.3343\n",
            "Epoch 78/250\n",
            "1/1 [==============================] - 4s 4s/step - loss: 7.2828 - qffnn_loss: 0.1028 - qffnn_1_loss: 7.2828\n",
            "Epoch 79/250\n",
            "1/1 [==============================] - 3s 3s/step - loss: 7.2291 - qffnn_loss: 0.1034 - qffnn_1_loss: 7.2291\n",
            "Epoch 80/250\n",
            "1/1 [==============================] - 4s 4s/step - loss: 7.1787 - qffnn_loss: 0.1040 - qffnn_1_loss: 7.1787\n",
            "Epoch 81/250\n",
            "1/1 [==============================] - 4s 4s/step - loss: 7.1284 - qffnn_loss: 0.1046 - qffnn_1_loss: 7.1284\n",
            "Epoch 82/250\n",
            "1/1 [==============================] - 4s 4s/step - loss: 7.0754 - qffnn_loss: 0.1052 - qffnn_1_loss: 7.0754\n",
            "Epoch 83/250\n",
            "1/1 [==============================] - 4s 4s/step - loss: 7.0191 - qffnn_loss: 0.1059 - qffnn_1_loss: 7.0191\n",
            "Epoch 84/250\n",
            "1/1 [==============================] - 3s 3s/step - loss: 6.9608 - qffnn_loss: 0.1066 - qffnn_1_loss: 6.9608\n",
            "Epoch 85/250\n",
            "1/1 [==============================] - 3s 3s/step - loss: 6.8988 - qffnn_loss: 0.1073 - qffnn_1_loss: 6.8988\n",
            "Epoch 86/250\n",
            "1/1 [==============================] - 3s 3s/step - loss: 6.8322 - qffnn_loss: 0.1081 - qffnn_1_loss: 6.8322\n",
            "Epoch 87/250\n",
            "1/1 [==============================] - 3s 3s/step - loss: 6.7660 - qffnn_loss: 0.1089 - qffnn_1_loss: 6.7660\n",
            "Epoch 88/250\n",
            "1/1 [==============================] - 3s 3s/step - loss: 6.7009 - qffnn_loss: 0.1097 - qffnn_1_loss: 6.7009\n",
            "Epoch 89/250\n",
            "1/1 [==============================] - 3s 3s/step - loss: 6.6357 - qffnn_loss: 0.1105 - qffnn_1_loss: 6.6357\n",
            "Epoch 90/250\n",
            "1/1 [==============================] - 3s 3s/step - loss: 6.5701 - qffnn_loss: 0.1114 - qffnn_1_loss: 6.5701\n",
            "Epoch 91/250\n",
            "1/1 [==============================] - 3s 3s/step - loss: 6.5057 - qffnn_loss: 0.1123 - qffnn_1_loss: 6.5057\n",
            "Epoch 92/250\n"
          ]
        }
      ],
      "source": [
        "%%time\n",
        "history = model.fit(\n",
        "              x=[\n",
        "                  circuit_tensor, \n",
        "                  cost_operator_tensor, \n",
        "                  initial_parameters, \n",
        "              ],\n",
        "              y=[\n",
        "                  np.zeros((1, qaoa_tsp.p * 2)),\n",
        "                  np.zeros((1, 1)), # the closer to 0 the better the result\n",
        "              ], \n",
        "              epochs=250,\n",
        "              verbose=1)"
      ]
    },
    {
      "cell_type": "code",
      "execution_count": null,
      "metadata": {
        "id": "MQK-wlsmCXut",
        "scrolled": true
      },
      "outputs": [],
      "source": [
        "plt.plot(history.history['loss'])\n",
        "plt.xlabel(\"Iteration\")\n",
        "plt.ylabel(\"Loss\")\n",
        "plt.show()"
      ]
    },
    {
      "cell_type": "markdown",
      "metadata": {
        "id": "QEXmxIThH88L"
      },
      "source": [
        "## Results"
      ]
    },
    {
      "cell_type": "code",
      "execution_count": null,
      "metadata": {
        "id": "7sdzk1LJH88L"
      },
      "outputs": [],
      "source": [
        "parameter_values = model.predict([circuit_tensor, cost_operator_tensor, initial_parameters])[0]\n",
        "print(f\"Parameter values:\\n {parameter_values}\")"
      ]
    },
    {
      "cell_type": "code",
      "execution_count": null,
      "metadata": {
        "id": "vIOd51I3H88L"
      },
      "outputs": [],
      "source": [
        "samples_amount = 2**16\n",
        "sample_layer = tfq.layers.Sample()\n",
        "output = sample_layer(circuit_tensor, \n",
        "                      symbol_names=qaoa_tsp.parameters, \n",
        "                      symbol_values=parameter_values, \n",
        "                      repetitions=samples_amount)"
      ]
    },
    {
      "cell_type": "code",
      "execution_count": null,
      "metadata": {
        "id": "eD0R-h8aH88M"
      },
      "outputs": [],
      "source": [
        "from collections import Counter\n",
        "\n",
        "results = output.numpy()[0].astype(str).tolist()\n",
        "results_to_display = [''.join(result) for result in results]\n",
        "correct_results = (\"0001100001000010\",\"0010010010000001\",\"0100100000010010\",\"1000000100100100\",\"1000010000100001\",\"0100001000011000\",\"0001001001001000\",\"0010000110000100\",\"0100000110000010\",\"0010100000010100\",\"0001010000101000\",\"0001100000100100\",\"1000000101000010\",\"1000001001000001\",\"0100001010000001\", \"0100000100101000\", \"0010010000011000\", \"0100100000100001\", \"1000001000010100\", \"0001001010000100\", \"0001010010000010\",\"0010000101001000\", \"1000010000010010\", \"0010100001000001\")\n",
        "counts = Counter(results_to_display)\n",
        "\n",
        "correct_results_count = sum(counts[result] for result in correct_results)\n",
        "print(f'Correct results: {round(correct_results_count / samples_amount * 100,2)}% \\n')\n",
        "\n",
        "print(f'bin \\t\\t\\t\\t occurences \\t correct?')\n",
        "for row in counts.most_common():\n",
        "    is_correct = row[0] in (correct_results)\n",
        "    print(f\"{row[0][0:4]} \\t {row[0][4:8]} \\t {row[0][8:12]} \\t {row[0][12:]} \\t {row[1]} \\t\\t {is_correct}\")"
      ]
    }
  ],
  "metadata": {
    "colab": {
      "collapsed_sections": [],
      "name": "[QNN] TSP on Colab",
      "provenance": [],
      "toc_visible": true
    },
    "kernelspec": {
      "display_name": "Python 3 (ipykernel)",
      "language": "python",
      "name": "python3"
    },
    "language_info": {
      "codemirror_mode": {
        "name": "ipython",
        "version": 3
      },
      "file_extension": ".py",
      "mimetype": "text/x-python",
      "name": "python",
      "nbconvert_exporter": "python",
      "pygments_lexer": "ipython3",
      "version": "3.8.2"
    }
  },
  "nbformat": 4,
  "nbformat_minor": 0
}